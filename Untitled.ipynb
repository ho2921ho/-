{
 "cells": [
  {
   "cell_type": "code",
   "execution_count": 3,
   "metadata": {},
   "outputs": [
    {
     "name": "stdout",
     "output_type": "stream",
     "text": [
      "90\n"
     ]
    }
   ],
   "source": [
    "score = input()"
   ]
  },
  {
   "cell_type": "code",
   "execution_count": 4,
   "metadata": {},
   "outputs": [],
   "source": [
    "score = int(score)"
   ]
  },
  {
   "cell_type": "code",
   "execution_count": 5,
   "metadata": {},
   "outputs": [
    {
     "name": "stdout",
     "output_type": "stream",
     "text": [
      "A\n"
     ]
    }
   ],
   "source": [
    "if score >= 90:\n",
    "    print('A')\n",
    "elif score >= 80 and score < 90:\n",
    "    print('B')"
   ]
  },
  {
   "cell_type": "code",
   "execution_count": 6,
   "metadata": {},
   "outputs": [],
   "source": [
    "numlist = range(2,10)"
   ]
  },
  {
   "cell_type": "code",
   "execution_count": 12,
   "metadata": {},
   "outputs": [
    {
     "name": "stdout",
     "output_type": "stream",
     "text": [
      "2X1=2\n",
      "2X2=4\n",
      "2X3=6\n",
      "2X4=8\n",
      "2X5=10\n",
      "2X6=12\n",
      "2X7=14\n",
      "2X8=16\n",
      "2X9=18\n",
      " \n",
      "3X1=3\n",
      "3X2=6\n",
      "3X3=9\n",
      "3X4=12\n",
      "3X5=15\n",
      "3X6=18\n",
      "3X7=21\n",
      "3X8=24\n",
      "3X9=27\n",
      " \n",
      "4X1=4\n",
      "4X2=8\n",
      "4X3=12\n",
      "4X4=16\n",
      "4X5=20\n",
      "4X6=24\n",
      "4X7=28\n",
      "4X8=32\n",
      "4X9=36\n",
      " \n",
      "5X1=5\n",
      "5X2=10\n",
      "5X3=15\n",
      "5X4=20\n",
      "5X5=25\n",
      "5X6=30\n",
      "5X7=35\n",
      "5X8=40\n",
      "5X9=45\n",
      " \n",
      "6X1=6\n",
      "6X2=12\n",
      "6X3=18\n",
      "6X4=24\n",
      "6X5=30\n",
      "6X6=36\n",
      "6X7=42\n",
      "6X8=48\n",
      "6X9=54\n",
      " \n",
      "7X1=7\n",
      "7X2=14\n",
      "7X3=21\n",
      "7X4=28\n",
      "7X5=35\n",
      "7X6=42\n",
      "7X7=49\n",
      "7X8=56\n",
      "7X9=63\n",
      " \n",
      "8X1=8\n",
      "8X2=16\n",
      "8X3=24\n",
      "8X4=32\n",
      "8X5=40\n",
      "8X6=48\n",
      "8X7=56\n",
      "8X8=64\n",
      "8X9=72\n",
      " \n",
      "9X1=9\n",
      "9X2=18\n",
      "9X3=27\n",
      "9X4=36\n",
      "9X5=45\n",
      "9X6=54\n",
      "9X7=63\n",
      "9X8=72\n",
      "9X9=81\n",
      " \n"
     ]
    }
   ],
   "source": [
    "for i in range(2,10) :\n",
    "    for j in range(1,10):\n",
    "        print('{}X{}={}'.format(i,j,i*j))\n",
    "    print(' ')"
   ]
  },
  {
   "cell_type": "code",
   "execution_count": 22,
   "metadata": {},
   "outputs": [
    {
     "name": "stdout",
     "output_type": "stream",
     "text": [
      "*\n",
      "**\n",
      "***\n",
      "****\n",
      "*****\n"
     ]
    }
   ],
   "source": [
    "cnt = 1\n",
    "while cnt <=5:\n",
    "    print('*'*cnt)\n",
    "    cnt += 1"
   ]
  },
  {
   "cell_type": "code",
   "execution_count": 20,
   "metadata": {},
   "outputs": [],
   "source": [
    "digit = 1\n",
    "total = 0\n",
    "while digit <= 100:\n",
    "    if digit % 2 == 0:\n",
    "        total = total + digit \n",
    "    digit += 1"
   ]
  },
  {
   "cell_type": "code",
   "execution_count": 21,
   "metadata": {},
   "outputs": [
    {
     "name": "stdout",
     "output_type": "stream",
     "text": [
      "2550\n"
     ]
    }
   ],
   "source": [
    "print(total)"
   ]
  },
  {
   "cell_type": "code",
   "execution_count": 24,
   "metadata": {},
   "outputs": [],
   "source": []
  },
  {
   "cell_type": "code",
   "execution_count": 4,
   "metadata": {},
   "outputs": [
    {
     "name": "stdout",
     "output_type": "stream",
     "text": [
      "정답을 맞춰보세요1\n",
      "더 큰 수 입니다.\n",
      "정답을 맞춰보세요2\n",
      "더 큰 수 입니다.\n",
      "정답을 맞춰보세요3\n",
      "더 큰 수 입니다.\n",
      "정답을 맞춰보세요4\n",
      "더 큰 수 입니다.\n",
      "정답을 맞춰보세요5\n",
      "더 큰 수 입니다.\n",
      "정답을 맞춰보세요6\n",
      "더 큰 수 입니다.\n",
      "정답을 맞춰보세요7\n",
      "더 큰 수 입니다.\n",
      "정답을 맞춰보세요8\n",
      "더 큰 수 입니다.\n",
      "정답을 맞춰보세요9\n",
      "더 큰 수 입니다.\n",
      "정답을 맞춰보세요10\n",
      "fail.\n"
     ]
    }
   ],
   "source": [
    "import random \n",
    "x = random.randint(0,100)\n",
    "\n",
    "chance = 1\n",
    "while chance <= 10:\n",
    "    try:\n",
    "        guess = input('정답을 맞춰보세요')\n",
    "        guess = int(guess)\n",
    "        if chance < 10:\n",
    "\n",
    "            if guess < x:\n",
    "                print('더 큰 수 입니다.')\n",
    "            elif guess > x:\n",
    "                print('더 작은 수 입니다.')\n",
    "            else:\n",
    "                print('정답입니다.')\n",
    "                break\n",
    "\n",
    "        if chance == 10:\n",
    "\n",
    "            if guess < x:\n",
    "                print('fail.')\n",
    "            elif guess > x:\n",
    "                print('fail.')\n",
    "            else:\n",
    "                print('정답입니다.')\n",
    "                break\n",
    "                \n",
    "        chance += 1\n",
    "        \n",
    "    except:\n",
    "        print('숫자를 입력하세요.')\n",
    "        continue\n"
   ]
  },
  {
   "cell_type": "code",
   "execution_count": null,
   "metadata": {},
   "outputs": [],
   "source": []
  }
 ],
 "metadata": {
  "kernelspec": {
   "display_name": "Python 3",
   "language": "python",
   "name": "python3"
  },
  "language_info": {
   "codemirror_mode": {
    "name": "ipython",
    "version": 3
   },
   "file_extension": ".py",
   "mimetype": "text/x-python",
   "name": "python",
   "nbconvert_exporter": "python",
   "pygments_lexer": "ipython3",
   "version": "3.7.4"
  }
 },
 "nbformat": 4,
 "nbformat_minor": 2
}
